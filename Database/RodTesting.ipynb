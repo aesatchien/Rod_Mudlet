{
 "cells": [
  {
   "cell_type": "markdown",
   "metadata": {},
   "source": [
    "## Working with the Rodpedia Item Database - 6/20/2019 CJH"
   ]
  },
  {
   "cell_type": "code",
   "execution_count": 1,
   "metadata": {},
   "outputs": [],
   "source": [
    "import pandas as pd\n",
    "import rod_database_CJH as rdb\n",
    "from importlib import reload\n",
    "import re\n",
    "import matplotlib.pyplot as plt\n",
    "%matplotlib inline"
   ]
  },
  {
   "cell_type": "code",
   "execution_count": 82,
   "metadata": {},
   "outputs": [
    {
     "data": {
      "text/plain": [
       "<module 'rod_database_CJH' from 'C:\\\\CJH\\\\Misc\\\\Games\\\\CJH_Mudlet_Git\\\\Database\\\\rod_database_CJH.py'>"
      ]
     },
     "execution_count": 82,
     "metadata": {},
     "output_type": "execute_result"
    }
   ],
   "source": [
    "reload(rdb)"
   ]
  },
  {
   "cell_type": "markdown",
   "metadata": {},
   "source": [
    "### rod_database.py has a load method for unpickling the database for raw actions and creating a dataframe for pandas"
   ]
  },
  {
   "cell_type": "code",
   "execution_count": 3,
   "metadata": {},
   "outputs": [],
   "source": [
    "# the unpickling is really fast\n",
    "items = rdb.load_db()"
   ]
  },
  {
   "cell_type": "code",
   "execution_count": 4,
   "metadata": {},
   "outputs": [],
   "source": [
    "df = rdb.make_pandas_df(items,'coerce')"
   ]
  },
  {
   "cell_type": "code",
   "execution_count": 5,
   "metadata": {},
   "outputs": [],
   "source": [
    "standards = {'LEVEL','ITEM_NAME','DAMAGE_ROLL','HIT_ROLL','Area','STR','INT','WIS','DEX','CON','CHA','LCK','HP','MANA'}"
   ]
  },
  {
   "cell_type": "markdown",
   "metadata": {},
   "source": [
    "#### Look for high damage weapons"
   ]
  },
  {
   "cell_type": "code",
   "execution_count": 6,
   "metadata": {},
   "outputs": [],
   "source": [
    "q=df.query('LEVEL<26 & AVERAGE_DAMAGE>15').sort_values(by='VALUE').iloc[:, : 20].fillna('')\n"
   ]
  },
  {
   "cell_type": "markdown",
   "metadata": {},
   "source": [
    "#### Look for lights we can use"
   ]
  },
  {
   "cell_type": "code",
   "execution_count": 30,
   "metadata": {},
   "outputs": [],
   "source": [
    "q=df.query('LEVEL<26 & VALUE >1 & ITEM_TYPE.str.startswith(\"light\")')[{'ITEM_NAME','LEVEL','AFFECTS','VALUE','Area','Mob'}].sort_values(by='VALUE')"
   ]
  },
  {
   "cell_type": "markdown",
   "metadata": {},
   "source": [
    "### Messing around"
   ]
  },
  {
   "cell_type": "code",
   "execution_count": 8,
   "metadata": {},
   "outputs": [],
   "source": [
    "q.to_clipboard()"
   ]
  },
  {
   "cell_type": "code",
   "execution_count": 9,
   "metadata": {},
   "outputs": [],
   "source": [
    "affects=[]\n",
    "for item in items:\n",
    "    affects.append(rdb.flatten_affects(item))\n",
    "df_affs = pd.DataFrame(affects)"
   ]
  },
  {
   "cell_type": "code",
   "execution_count": 10,
   "metadata": {},
   "outputs": [
    {
     "data": {
      "text/plain": [
       "['',\n",
       " 'strength 1; wisdom 1; mana 60; hit roll 4; ',\n",
       " '',\n",
       " '',\n",
       " '',\n",
       " '',\n",
       " '',\n",
       " '',\n",
       " '',\n",
       " 'save vs spell -3; dexterity 2; hp 35; hit roll 2; damage roll 3; ',\n",
       " '',\n",
       " '',\n",
       " 'armor class -3; constitution 1; strength 1; mana 10; hp 5; hit roll 1; ',\n",
       " '',\n",
       " '',\n",
       " 'damage roll 12; hit roll 10; hp 95; dexterity 1; luck 1; ',\n",
       " '',\n",
       " 'damage roll 4; strength 1; mana 60; hp 40; ',\n",
       " 'resistant:fire 5%; susceptible:electricity 15%; hp 45; damage roll 3; resistant:fire 5%; susceptible:electricity 15%; hp 65; damage roll 3; charisma 1; ']"
      ]
     },
     "execution_count": 10,
     "metadata": {},
     "output_type": "execute_result"
    }
   ],
   "source": [
    "affects[1:20]"
   ]
  },
  {
   "cell_type": "code",
   "execution_count": 11,
   "metadata": {},
   "outputs": [
    {
     "data": {
      "text/plain": [
       "array(['A small skull stares up at you from the ground.', '',\n",
       "       'A deep red ring with strange markings draws you to it.',\n",
       "       'A slim silver object studded with green stones catches the light.',\n",
       "       'A crude necklace has been dropped on the ground.',\n",
       "       \"Abdiel's ring of holy flame burns with a dull white glow.\",\n",
       "       'A thin book covered with dust has been dropped here.',\n",
       "       'Light glows from within a perfect sphere of white crystal.',\n",
       "       'A dull green coating covers this acid-encrusted scythe.',\n",
       "       'A pile of thick plate armor lies here.'], dtype=object)"
      ]
     },
     "execution_count": 11,
     "metadata": {},
     "output_type": "execute_result"
    }
   ],
   "source": [
    "pd.unique(df['GLANCE_DESCRIPTION'])[0:10]"
   ]
  },
  {
   "cell_type": "code",
   "execution_count": 12,
   "metadata": {},
   "outputs": [
    {
     "data": {
      "text/plain": [
       "count     3745\n",
       "unique    1192\n",
       "top           \n",
       "freq      2541\n",
       "Name: GLANCE_DESCRIPTION, dtype: object"
      ]
     },
     "execution_count": 12,
     "metadata": {},
     "output_type": "execute_result"
    }
   ],
   "source": [
    "df['GLANCE_DESCRIPTION'].describe()"
   ]
  },
  {
   "cell_type": "code",
   "execution_count": 13,
   "metadata": {},
   "outputs": [],
   "source": [
    "af = []\n",
    "for item in items:\n",
    "    af=af+item['AFFECTS_LIST']\n",
    "df_af = pd.DataFrame(af)"
   ]
  },
  {
   "cell_type": "code",
   "execution_count": 14,
   "metadata": {},
   "outputs": [],
   "source": [
    "af_dict = df_af[0].value_counts()[0:100].to_dict()"
   ]
  },
  {
   "cell_type": "code",
   "execution_count": 15,
   "metadata": {},
   "outputs": [
    {
     "name": "stdout",
     "output_type": "stream",
     "text": [
      "Pretty printing has been turned OFF\n"
     ]
    },
    {
     "data": {
      "text/plain": [
       "['damage roll', 'hp', 'hit roll', 'mana', 'dexterity', 'strength', 'armor class', 'wisdom', 'constitution', 'intelligence', 'luck', 'affected_by', 'charisma', 'moves', 'save vs spell', 'save vs breath', 'save vs paralysis', 'save vs poison', 'resistant:cold', 'hp regeneration', 'save vs rod', 'mana regeneration', 'resistant:fire', 'resistant:magic', 'resistant:poison', 'age', 'resistant:nonmagic', 'resistant:slash', 'resistant:acid', 'carrying capacity', 'resistant:drain', 'resistant:unholy', 'susceptible:fire', 'resistant:electricity', 'damage vs evils', 'resistant:energy', 'parry', 'damage vs devouts', 'susceptible:holy', 'resistant:charm', 'resistant:sleep', 'susceptible:cold', 'grip', 'second attack', 'damage vs dragons', 'susceptible:drain', 'mount', 'backstab', 'cost of fireshield', 'damage vs undead', 'resistant:blunt', 'immune', 'susceptible:blunt', 'susceptible:pierce', 'resistant:paralysis', 'resistant:pierce', 'blood', 'susceptible:electricity', 'damage vs dragon', 'third attack', 'disarm', 'weight', 'pick', 'susceptible:magic', 'wait time of mercuria', 'scan', 'peek', 'susceptible:poison', 'cost of locate object', 'punch', 'damage vs golem', 'damage of vindur gong', 'susceptible:paralysis', 'height', 'damage vs neutrals', 'damage of dorn nadur', 'damage vs god', 'susceptible:charm', 'cost of demonskin', 'damage vs Demon', 'cost of vindur gong', 'strength/wisdom/luck', 'bash', 'block', 'gouge', 'damage vs rustmonster', 'cost of true sight', 'resistant:holy', 'cost of spiral blast', 'shieldblock', 'wait time of warsong', 'wait time of granite skin', 'cost of blood armor', 'damage vs tree', 'damage vs Angel', 'cost of flesh armor', 'damage of tronada macecle', 'damage vs Giant', 'damage of qlippothic shift', 'damage of arc lightning']"
      ]
     },
     "execution_count": 15,
     "metadata": {},
     "output_type": "execute_result"
    }
   ],
   "source": [
    "%pprint\n",
    "list(af_dict)"
   ]
  },
  {
   "cell_type": "code",
   "execution_count": 16,
   "metadata": {},
   "outputs": [
    {
     "name": "stdout",
     "output_type": "stream",
     "text": [
      "\n",
      "A shadowed lantern - RoDpedia\n",
      "A shadowed lantern\n",
      "From RoDpedia\n",
      "Jump to: navigation, search \n",
      "(Pkill) A shadowed lantern lies here, casting dim shafts of light across the room.\n",
      "  Identify \n",
      "Object 'a shadowed lantern' is infused with your magic...\n",
      "It is a level 0 light, weight 1.\n",
      "Special properties:  pkill\n",
      "This light has a gold value of 100.\n",
      "Affects affected_by by detect_hidden.\n",
      "Affects constitution by 1.\n",
      "Affects dexterity by 1.\n",
      "Affects strength by 1.\n",
      "  Information \n",
      " Mob: Sevrias\n",
      " Area: Grimoire\n",
      " Pop: No\n",
      " Manufactured: No\n",
      " Out of Game: No\n",
      " Minimum Level: Unknown\n",
      " Known keywords: Unknown\n",
      "  Notes \n",
      "Pkill only\n",
      "Sold in Grimoire\n",
      "\n"
     ]
    }
   ],
   "source": [
    "rdb.print_web(items[1776])"
   ]
  },
  {
   "cell_type": "code",
   "execution_count": 17,
   "metadata": {},
   "outputs": [
    {
     "name": "stdout",
     "output_type": "stream",
     "text": [
      "Pretty printing has been turned ON\n"
     ]
    },
    {
     "data": {
      "text/plain": [
       "{'ITEM_NAME': 'a shadowed lantern',\n",
       " 'LEVEL': 0,\n",
       " 'ITEM_TYPE': 'light',\n",
       " 'WORN': '',\n",
       " 'ARMOR_CLASS': '',\n",
       " 'WEAPON_TYPE': '',\n",
       " 'DAMAGE': '',\n",
       " 'GOLD': 100,\n",
       " 'WEIGHT': 1,\n",
       " 'SPECIAL_PROPERTIES': ['pkill'],\n",
       " 'GENRES_ALLOWED': '',\n",
       " 'AFFECTS_LIST': [['affected_by', 'detect_hidden'],\n",
       "  ['constitution', '1'],\n",
       "  ['dexterity', '1'],\n",
       "  ['strength', '1']],\n",
       " 'GLANCE_DESCRIPTION': '(Pkill) A shadowed lantern lies here, casting dim shafts of light across the room.',\n",
       " 'EXAM_DESCRIPTION': '',\n",
       " 'CATEGORIES': ['Grimoire',\n",
       "  'Devout',\n",
       "  'Evil',\n",
       "  'Neutral',\n",
       "  'Augurer',\n",
       "  'Barbarian',\n",
       "  'Bladesinger',\n",
       "  'Cleric',\n",
       "  'Druid',\n",
       "  'Fathomer',\n",
       "  'Mage',\n",
       "  'Nephandi',\n",
       "  'Paladin',\n",
       "  'Ranger',\n",
       "  'Thief',\n",
       "  'Vampire',\n",
       "  'Warrior',\n",
       "  'Light',\n",
       "  'Nonmagical',\n",
       "  'Pkill',\n",
       "  ''],\n",
       " 'HTTP_DESCRIPTION': \"\\nA shadowed lantern - RoDpedia\\nA shadowed lantern\\nFrom RoDpedia\\nJump to: navigation, search \\n(Pkill) A shadowed lantern lies here, casting dim shafts of light across the room.\\n  Identify \\nObject 'a shadowed lantern' is infused with your magic...\\nIt is a level 0 light, weight 1.\\nSpecial properties:  pkill\\nThis light has a gold value of 100.\\nAffects affected_by by detect_hidden.\\nAffects constitution by 1.\\nAffects dexterity by 1.\\nAffects strength by 1.\\n  Information \\n Mob: Sevrias\\n Area: Grimoire\\n Pop: No\\n Manufactured: No\\n Out of Game: No\\n Minimum Level: Unknown\\n Known keywords: Unknown\\n  Notes \\nPkill only\\nSold in Grimoire\\n\",\n",
       " 'Mob': 'Sevrias',\n",
       " 'Area': 'Grimoire',\n",
       " 'Pop': 'No',\n",
       " 'Manufactured': 'No',\n",
       " 'Out of Game': 'No',\n",
       " 'Minimum Level': 'Unknown',\n",
       " 'Known Keywords': '',\n",
       " 'DAMAGE_ROLL': '',\n",
       " 'HIT_ROLL': '',\n",
       " 'HP': '',\n",
       " 'MANA': '',\n",
       " 'STR': 1,\n",
       " 'DEX': 1,\n",
       " 'CON': 1,\n",
       " 'INT': '',\n",
       " 'WIS': '',\n",
       " 'CHA': '',\n",
       " 'LCK': '',\n",
       " 'AVERAGE_DAMAGE': '',\n",
       " 'AC': '',\n",
       " 'VALUE': 4}"
      ]
     },
     "execution_count": 17,
     "metadata": {},
     "output_type": "execute_result"
    }
   ],
   "source": [
    "%pprint\n",
    "items[1776]"
   ]
  },
  {
   "cell_type": "code",
   "execution_count": 18,
   "metadata": {},
   "outputs": [
    {
     "data": {
      "text/plain": [
       "'affected_by detect_hidden; constitution 1; dexterity 1; strength 1; '"
      ]
     },
     "execution_count": 18,
     "metadata": {},
     "output_type": "execute_result"
    }
   ],
   "source": [
    "rdb.flatten_affects(items[1776])"
   ]
  },
  {
   "cell_type": "code",
   "execution_count": 19,
   "metadata": {},
   "outputs": [],
   "source": [
    "def format_affects_list(af):\n",
    "    #af = item['AFFECTS_LIST']\n",
    "    str = ''\n",
    "    for key in af:\n",
    "        words= re.findall(r\"[\\w']+\", key[0])\n",
    "        for word in words:\n",
    "            str = str + word[0:3] + ' '\n",
    "        str = str.strip() + ':' + key[1] + '; '\n",
    "        #str = str + key[0] + ' ' + key[1] + '; '\n",
    "    return str.strip().upper()"
   ]
  },
  {
   "cell_type": "code",
   "execution_count": 21,
   "metadata": {},
   "outputs": [
    {
     "data": {
      "text/plain": [
       "'SAV VS POI:-3; ARM CLA:-40; STR:2; DEX:-1; HP:150; HIT ROL:8; DAM ROL:8; RES BLU:10%; RES DRA:10%;'"
      ]
     },
     "execution_count": 21,
     "metadata": {},
     "output_type": "execute_result"
    }
   ],
   "source": [
    "rdb.format_affects(items[952])"
   ]
  },
  {
   "cell_type": "code",
   "execution_count": 22,
   "metadata": {},
   "outputs": [
    {
     "data": {
      "text/plain": [
       "'save vs poison -3; armor class -40; strength 2; dexterity -1; hp 150; hit roll 8; damage roll 8; resistant:blunt 10%; resistant:drain 10%; '"
      ]
     },
     "execution_count": 22,
     "metadata": {},
     "output_type": "execute_result"
    }
   ],
   "source": [
    "rdb.flatten_affects(items[952])"
   ]
  },
  {
   "cell_type": "code",
   "execution_count": 27,
   "metadata": {},
   "outputs": [
    {
     "name": "stdout",
     "output_type": "stream",
     "text": [
      "\n",
      "Match ID: 47\n",
      "Item name: THE ANCIENT BREASTPLATE OF THE FOREST WANDERER\n",
      "Level: 47\tWorn: BODY \tType: ARMOR \n",
      "AC: ('20', '20')\tDamage:\n",
      "STR: 1 INT:  WIS: 1 DEX:  CON:  CHA: LCK:  HIT:  DMG: \n",
      "HP: 100\t MANA: 100\n",
      "Area: The City of Salburg\t Mob: Chaurid, the Merchant\n",
      "hp 100; mana 100; damage roll 7; armor class -20; resistant:blunt 5%; resistant:magic 5%; susceptible:fire 5%; save vs breath -3; save vs paralysis -3; strength 1; wisdom 1; affected_by hide; \n",
      "\n",
      "Match ID: 515\n",
      "Item name: THE DAMNED PLATE OF MORDRED\n",
      "Level: 50\tWorn: BODY \tType: ARMOR \n",
      "AC: ('25', '25')\tDamage:\n",
      "STR:  INT:  WIS:  DEX:  CON:  CHA: LCK:  HIT:  DMG: \n",
      "HP: 90\t MANA: \n",
      "Area: Knights of the Round\t Mob: Sir Mordred\n",
      "resistant:pierce 10%; resistant:slash 10%; damage roll 7; hp 90; resistant:blunt 10%\" is added randomly; \n",
      "\n",
      "Match ID: 905\n",
      "Item name: GOLDEN SHIELD\n",
      "Level: 47\tWorn: SHIELD \tType: ARMOR \n",
      "AC: ('14', '14')\tDamage:\n",
      "STR:  INT:  WIS:  DEX:  CON:  CHA: LCK:  HIT:  DMG: 6\n",
      "HP: 75\t MANA: 55\n",
      "Area: Seth's Fortress\t Mob: The onyx golem\n",
      "armor class -15; hit roll 6; mana 55; resistant:blunt 10%; damage roll 5; hp 75; \n",
      "\n",
      "Match ID: 952\n",
      "Item name: THE HAMMER OF CURDARDH\n",
      "Level: 49\tWorn: WIELD \tType: WEAPON CRUSHING \n",
      "AC: \tDamage:('14', '42', '28')\n",
      "STR: 2 INT:  WIS:  DEX: -1 CON:  CHA: LCK:  HIT:  DMG: 8\n",
      "HP: 150\t MANA: \n",
      "Area: Shadowport\t Mob: Curdardh the Oldest One\n",
      "save vs poison -3; armor class -40; strength 2; dexterity -1; hp 150; hit roll 8; damage roll 8; resistant:blunt 10%; resistant:drain 10%; \n"
     ]
    },
    {
     "data": {
      "text/plain": [
       "[47, 515, 905, 952]"
      ]
     },
     "execution_count": 27,
     "metadata": {},
     "output_type": "execute_result"
    }
   ],
   "source": [
    "rdb.grep_all(items,'resistant:blunt')"
   ]
  },
  {
   "cell_type": "code",
   "execution_count": 28,
   "metadata": {},
   "outputs": [
    {
     "data": {
      "text/plain": [
       "'RES PIE:10%; RES SLA:10%; DAM ROL:7; HP:90; RES BLU:10%\" IS ADDED RANDOMLY;'"
      ]
     },
     "execution_count": 28,
     "metadata": {},
     "output_type": "execute_result"
    }
   ],
   "source": [
    "rdb.format_affects(items[515])"
   ]
  },
  {
   "cell_type": "code",
   "execution_count": null,
   "metadata": {},
   "outputs": [],
   "source": []
  },
  {
   "cell_type": "code",
   "execution_count": 112,
   "metadata": {},
   "outputs": [
    {
     "data": {
      "text/plain": [
       "[1177]"
      ]
     },
     "execution_count": 112,
     "metadata": {},
     "output_type": "execute_result"
    }
   ],
   "source": [
    "rdb.grep_name(items,'leg bone',False)"
   ]
  },
  {
   "cell_type": "code",
   "execution_count": 128,
   "metadata": {},
   "outputs": [
    {
     "data": {
      "text/plain": [
       "{'ITEM_NAME': 'a huge ash bow',\n",
       " 'LEVEL': '6',\n",
       " 'ITEM_TYPE': 'weapon',\n",
       " 'WORN': 'missile',\n",
       " 'AC': '',\n",
       " 'WEAPON_TYPE': 'missile',\n",
       " 'AVERAGE_DAMAGE': '',\n",
       " 'VALUE': 3,\n",
       " 'DAMAGE_ROLL': '',\n",
       " 'HIT_ROLL': 3,\n",
       " 'DEX': '',\n",
       " 'STR': '',\n",
       " 'WIS': '',\n",
       " 'CON': '',\n",
       " 'INT': '',\n",
       " 'LCK': '',\n",
       " 'CHA': '',\n",
       " 'HP': '',\n",
       " 'MANA': '',\n",
       " 'MOB': 'the forest bandit, Ogre the Brute, Lucellia the Lucky',\n",
       " 'AREA': 'Along the Forest Path',\n",
       " 'POP': 'No',\n",
       " 'MANUFACTURED': 'No',\n",
       " 'OUT_OF_GAME': 'No',\n",
       " 'MINIMUM_LEVEL': '',\n",
       " 'KNOWN_KEYWORDS': '',\n",
       " 'GOLD': '400',\n",
       " 'WEIGHT': '5',\n",
       " 'SPECIAL_PROPERTIES': ['none'],\n",
       " 'GENRES_ALLOWED': '',\n",
       " 'RACES_ALLOWES': '',\n",
       " 'AFFECTS_LIST': [('hit roll', '3')],\n",
       " 'GLANCE_DESCRIPTION': '',\n",
       " 'ARMOR_CLASS': '',\n",
       " 'DAMAGE': '',\n",
       " 'EXAM_DESCRIPTION': '',\n",
       " 'HTTP_DESCRIPTION': \"\\nA huge ash bow - RoDpedia\\nA huge ash bow\\nFrom RoDpedia\\nJump to: navigation, search \\n  Identify \\nObject 'a huge ash bow' is infused with your magic...\\nIt is a level 6 missileweapon, weight 5.\\nLocations it can be worn:  missile\\nSpecial properties:  none\\nThis missileweapon has a gold value of 400.\\nAffects hit roll by 3.\\n  Information \\n Mob: the forest bandit, Ogre the Brute, Lucellia the Lucky\\n Area: Along the Forest Path\\n Pop: No\\n Manufactured: No\\n Out of Game: No\\n\"}"
      ]
     },
     "execution_count": 128,
     "metadata": {},
     "output_type": "execute_result"
    }
   ],
   "source": [
    "reload(rdb)\n",
    "ti=rdb.item_from_description(items[1019]['HTTP_DESCRIPTION'])\n",
    "ti"
   ]
  },
  {
   "cell_type": "code",
   "execution_count": 118,
   "metadata": {},
   "outputs": [
    {
     "data": {
      "text/plain": [
       "'ARM CLA:10; STR:1; CON:1; HP:10;'"
      ]
     },
     "execution_count": 118,
     "metadata": {},
     "output_type": "execute_result"
    }
   ],
   "source": [
    "rdb.format_affects(ti)"
   ]
  },
  {
   "cell_type": "code",
   "execution_count": 69,
   "metadata": {},
   "outputs": [],
   "source": [
    "other_keys_names = ['Mob', 'Area','Pop', 'Manufactured', 'Out of Game', 'Minimum Level', 'Known keywords']"
   ]
  },
  {
   "cell_type": "code",
   "execution_count": 73,
   "metadata": {},
   "outputs": [
    {
     "data": {
      "text/plain": [
       "['MOB',\n",
       " 'AREA',\n",
       " 'POP',\n",
       " 'MANUFACTURED',\n",
       " 'OUT_OF_GAME',\n",
       " 'MINIMUM_LEVEL',\n",
       " 'KNOWN_KEYWORDS']"
      ]
     },
     "execution_count": 73,
     "metadata": {},
     "output_type": "execute_result"
    }
   ],
   "source": [
    "[re.sub(r' ',r'_',x.upper()) for x in other_keys_names]"
   ]
  },
  {
   "cell_type": "code",
   "execution_count": 84,
   "metadata": {},
   "outputs": [
    {
     "name": "stdout",
     "output_type": "stream",
     "text": [
      "adding numeric 8 from damage roll\n",
      "adding reduced 14.0 from hp (140)\n",
      "adding reduced 10.0 from mana (100)\n",
      "adding qualitiatve 1 from resistant:unholy (10%)\n",
      "adding numeric 1 from wisdom\n",
      "adding numeric 2 from strength\n"
     ]
    },
    {
     "data": {
      "text/plain": [
       "36.0"
      ]
     },
     "execution_count": 84,
     "metadata": {},
     "output_type": "execute_result"
    }
   ],
   "source": [
    "rdb.item_value(items[25],True)"
   ]
  },
  {
   "cell_type": "code",
   "execution_count": 139,
   "metadata": {},
   "outputs": [],
   "source": [
    "newitems=[]\n",
    "for item in items:\n",
    "    temp = rdb.item_from_description(item['HTTP_DESCRIPTION'])\n",
    "    temp.update({'CATEGORIES':item['CATEGORIES']})\n",
    "    newitems.append(temp)\n",
    "    "
   ]
  },
  {
   "cell_type": "code",
   "execution_count": 140,
   "metadata": {},
   "outputs": [
    {
     "data": {
      "text/plain": [
       "3745"
      ]
     },
     "execution_count": 140,
     "metadata": {},
     "output_type": "execute_result"
    }
   ],
   "source": [
    "len(newitems)"
   ]
  },
  {
   "cell_type": "raw",
   "metadata": {},
   "source": [
    "newitems[1019]"
   ]
  },
  {
   "cell_type": "code",
   "execution_count": 141,
   "metadata": {},
   "outputs": [],
   "source": [
    "rdb.save_db(newitems)"
   ]
  },
  {
   "cell_type": "code",
   "execution_count": 145,
   "metadata": {},
   "outputs": [],
   "source": [
    "reload(rdb)\n",
    "df =rdb.make_pandas_df(newitems)"
   ]
  },
  {
   "cell_type": "code",
   "execution_count": 146,
   "metadata": {},
   "outputs": [],
   "source": [
    "rdb.save_pd_to_excel(df)"
   ]
  },
  {
   "cell_type": "code",
   "execution_count": null,
   "metadata": {},
   "outputs": [],
   "source": []
  }
 ],
 "metadata": {
  "kernelspec": {
   "display_name": "Python 3",
   "language": "python",
   "name": "python3"
  },
  "language_info": {
   "codemirror_mode": {
    "name": "ipython",
    "version": 3
   },
   "file_extension": ".py",
   "mimetype": "text/x-python",
   "name": "python",
   "nbconvert_exporter": "python",
   "pygments_lexer": "ipython3",
   "version": "3.7.0"
  }
 },
 "nbformat": 4,
 "nbformat_minor": 2
}
