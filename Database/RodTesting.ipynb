{
 "cells": [
  {
   "cell_type": "markdown",
   "metadata": {},
   "source": [
    "## Playground for testing Rodpedia Item Database - 6/20/2019 CJH"
   ]
  },
  {
   "cell_type": "code",
   "execution_count": 1,
   "metadata": {},
   "outputs": [],
   "source": [
    "import pandas as pd\n",
    "import rod_database_CJH as rdb\n",
    "from importlib import reload\n",
    "import re\n",
    "import matplotlib.pyplot as plt\n",
    "%matplotlib inline"
   ]
  },
  {
   "cell_type": "code",
   "execution_count": 331,
   "metadata": {},
   "outputs": [
    {
     "data": {
      "text/plain": [
       "<module 'rod_database_CJH' from 'C:\\\\CJH\\\\Misc\\\\Games\\\\CJH_Mudlet_Git\\\\Database\\\\rod_database_CJH.py'>"
      ]
     },
     "execution_count": 331,
     "metadata": {},
     "output_type": "execute_result"
    }
   ],
   "source": [
    "reload(rdb)"
   ]
  },
  {
   "cell_type": "markdown",
   "metadata": {},
   "source": [
    "### rod_database.py has a load method for unpickling the database for raw actions and creating a dataframe for pandas"
   ]
  },
  {
   "cell_type": "code",
   "execution_count": 215,
   "metadata": {},
   "outputs": [],
   "source": [
    "# the unpickling is really fast\n",
    "items = rdb.load_db()"
   ]
  },
  {
   "cell_type": "code",
   "execution_count": 4,
   "metadata": {},
   "outputs": [],
   "source": [
    "df = rdb.make_pandas_df(items,'coerce')"
   ]
  },
  {
   "cell_type": "markdown",
   "metadata": {},
   "source": [
    "### Messing around"
   ]
  },
  {
   "cell_type": "code",
   "execution_count": 8,
   "metadata": {},
   "outputs": [],
   "source": [
    "q.to_clipboard()"
   ]
  },
  {
   "cell_type": "code",
   "execution_count": 9,
   "metadata": {},
   "outputs": [],
   "source": [
    "affects=[]\n",
    "for item in items:\n",
    "    affects.append(rdb.flatten_affects(item))\n",
    "df_affs = pd.DataFrame(affects)"
   ]
  },
  {
   "cell_type": "code",
   "execution_count": 10,
   "metadata": {},
   "outputs": [
    {
     "data": {
      "text/plain": [
       "['',\n",
       " 'strength 1; wisdom 1; mana 60; hit roll 4; ',\n",
       " '',\n",
       " '',\n",
       " '',\n",
       " '',\n",
       " '',\n",
       " '',\n",
       " '',\n",
       " 'save vs spell -3; dexterity 2; hp 35; hit roll 2; damage roll 3; ',\n",
       " '',\n",
       " '',\n",
       " 'armor class -3; constitution 1; strength 1; mana 10; hp 5; hit roll 1; ',\n",
       " '',\n",
       " '',\n",
       " 'damage roll 12; hit roll 10; hp 95; dexterity 1; luck 1; ',\n",
       " '',\n",
       " 'damage roll 4; strength 1; mana 60; hp 40; ',\n",
       " 'resistant:fire 5%; susceptible:electricity 15%; hp 45; damage roll 3; resistant:fire 5%; susceptible:electricity 15%; hp 65; damage roll 3; charisma 1; ']"
      ]
     },
     "execution_count": 10,
     "metadata": {},
     "output_type": "execute_result"
    }
   ],
   "source": [
    "affects[1:20]"
   ]
  },
  {
   "cell_type": "code",
   "execution_count": 11,
   "metadata": {},
   "outputs": [
    {
     "data": {
      "text/plain": [
       "array(['A small skull stares up at you from the ground.', '',\n",
       "       'A deep red ring with strange markings draws you to it.',\n",
       "       'A slim silver object studded with green stones catches the light.',\n",
       "       'A crude necklace has been dropped on the ground.',\n",
       "       \"Abdiel's ring of holy flame burns with a dull white glow.\",\n",
       "       'A thin book covered with dust has been dropped here.',\n",
       "       'Light glows from within a perfect sphere of white crystal.',\n",
       "       'A dull green coating covers this acid-encrusted scythe.',\n",
       "       'A pile of thick plate armor lies here.'], dtype=object)"
      ]
     },
     "execution_count": 11,
     "metadata": {},
     "output_type": "execute_result"
    }
   ],
   "source": [
    "pd.unique(df['GLANCE_DESCRIPTION'])[0:10]"
   ]
  },
  {
   "cell_type": "code",
   "execution_count": 12,
   "metadata": {},
   "outputs": [
    {
     "data": {
      "text/plain": [
       "count     3745\n",
       "unique    1192\n",
       "top           \n",
       "freq      2541\n",
       "Name: GLANCE_DESCRIPTION, dtype: object"
      ]
     },
     "execution_count": 12,
     "metadata": {},
     "output_type": "execute_result"
    }
   ],
   "source": [
    "df['GLANCE_DESCRIPTION'].describe()"
   ]
  },
  {
   "cell_type": "code",
   "execution_count": 13,
   "metadata": {},
   "outputs": [],
   "source": [
    "af = []\n",
    "for item in items:\n",
    "    af=af+item['AFFECTS_LIST']\n",
    "df_af = pd.DataFrame(af)"
   ]
  },
  {
   "cell_type": "code",
   "execution_count": 14,
   "metadata": {},
   "outputs": [],
   "source": [
    "af_dict = df_af[0].value_counts()[0:100].to_dict()"
   ]
  },
  {
   "cell_type": "code",
   "execution_count": 15,
   "metadata": {},
   "outputs": [
    {
     "name": "stdout",
     "output_type": "stream",
     "text": [
      "Pretty printing has been turned OFF\n"
     ]
    },
    {
     "data": {
      "text/plain": [
       "['damage roll', 'hp', 'hit roll', 'mana', 'dexterity', 'strength', 'armor class', 'wisdom', 'constitution', 'intelligence', 'luck', 'affected_by', 'charisma', 'moves', 'save vs spell', 'save vs breath', 'save vs paralysis', 'save vs poison', 'resistant:cold', 'hp regeneration', 'save vs rod', 'mana regeneration', 'resistant:fire', 'resistant:magic', 'resistant:poison', 'age', 'resistant:nonmagic', 'resistant:slash', 'resistant:acid', 'carrying capacity', 'resistant:drain', 'resistant:unholy', 'susceptible:fire', 'resistant:electricity', 'damage vs evils', 'resistant:energy', 'parry', 'damage vs devouts', 'susceptible:holy', 'resistant:charm', 'resistant:sleep', 'susceptible:cold', 'grip', 'second attack', 'damage vs dragons', 'susceptible:drain', 'mount', 'backstab', 'cost of fireshield', 'damage vs undead', 'resistant:blunt', 'immune', 'susceptible:blunt', 'susceptible:pierce', 'resistant:paralysis', 'resistant:pierce', 'blood', 'susceptible:electricity', 'damage vs dragon', 'third attack', 'disarm', 'weight', 'pick', 'susceptible:magic', 'wait time of mercuria', 'scan', 'peek', 'susceptible:poison', 'cost of locate object', 'punch', 'damage vs golem', 'damage of vindur gong', 'susceptible:paralysis', 'height', 'damage vs neutrals', 'damage of dorn nadur', 'damage vs god', 'susceptible:charm', 'cost of demonskin', 'damage vs Demon', 'cost of vindur gong', 'strength/wisdom/luck', 'bash', 'block', 'gouge', 'damage vs rustmonster', 'cost of true sight', 'resistant:holy', 'cost of spiral blast', 'shieldblock', 'wait time of warsong', 'wait time of granite skin', 'cost of blood armor', 'damage vs tree', 'damage vs Angel', 'cost of flesh armor', 'damage of tronada macecle', 'damage vs Giant', 'damage of qlippothic shift', 'damage of arc lightning']"
      ]
     },
     "execution_count": 15,
     "metadata": {},
     "output_type": "execute_result"
    }
   ],
   "source": [
    "%pprint\n",
    "list(af_dict)"
   ]
  },
  {
   "cell_type": "code",
   "execution_count": 16,
   "metadata": {},
   "outputs": [
    {
     "name": "stdout",
     "output_type": "stream",
     "text": [
      "\n",
      "A shadowed lantern - RoDpedia\n",
      "A shadowed lantern\n",
      "From RoDpedia\n",
      "Jump to: navigation, search \n",
      "(Pkill) A shadowed lantern lies here, casting dim shafts of light across the room.\n",
      "  Identify \n",
      "Object 'a shadowed lantern' is infused with your magic...\n",
      "It is a level 0 light, weight 1.\n",
      "Special properties:  pkill\n",
      "This light has a gold value of 100.\n",
      "Affects affected_by by detect_hidden.\n",
      "Affects constitution by 1.\n",
      "Affects dexterity by 1.\n",
      "Affects strength by 1.\n",
      "  Information \n",
      " Mob: Sevrias\n",
      " Area: Grimoire\n",
      " Pop: No\n",
      " Manufactured: No\n",
      " Out of Game: No\n",
      " Minimum Level: Unknown\n",
      " Known keywords: Unknown\n",
      "  Notes \n",
      "Pkill only\n",
      "Sold in Grimoire\n",
      "\n"
     ]
    }
   ],
   "source": [
    "rdb.print_web(items[1776])"
   ]
  },
  {
   "cell_type": "code",
   "execution_count": 17,
   "metadata": {},
   "outputs": [
    {
     "name": "stdout",
     "output_type": "stream",
     "text": [
      "Pretty printing has been turned ON\n"
     ]
    },
    {
     "data": {
      "text/plain": [
       "{'ITEM_NAME': 'a shadowed lantern',\n",
       " 'LEVEL': 0,\n",
       " 'ITEM_TYPE': 'light',\n",
       " 'WORN': '',\n",
       " 'ARMOR_CLASS': '',\n",
       " 'WEAPON_TYPE': '',\n",
       " 'DAMAGE': '',\n",
       " 'GOLD': 100,\n",
       " 'WEIGHT': 1,\n",
       " 'SPECIAL_PROPERTIES': ['pkill'],\n",
       " 'GENRES_ALLOWED': '',\n",
       " 'AFFECTS_LIST': [['affected_by', 'detect_hidden'],\n",
       "  ['constitution', '1'],\n",
       "  ['dexterity', '1'],\n",
       "  ['strength', '1']],\n",
       " 'GLANCE_DESCRIPTION': '(Pkill) A shadowed lantern lies here, casting dim shafts of light across the room.',\n",
       " 'EXAM_DESCRIPTION': '',\n",
       " 'CATEGORIES': ['Grimoire',\n",
       "  'Devout',\n",
       "  'Evil',\n",
       "  'Neutral',\n",
       "  'Augurer',\n",
       "  'Barbarian',\n",
       "  'Bladesinger',\n",
       "  'Cleric',\n",
       "  'Druid',\n",
       "  'Fathomer',\n",
       "  'Mage',\n",
       "  'Nephandi',\n",
       "  'Paladin',\n",
       "  'Ranger',\n",
       "  'Thief',\n",
       "  'Vampire',\n",
       "  'Warrior',\n",
       "  'Light',\n",
       "  'Nonmagical',\n",
       "  'Pkill',\n",
       "  ''],\n",
       " 'HTTP_DESCRIPTION': \"\\nA shadowed lantern - RoDpedia\\nA shadowed lantern\\nFrom RoDpedia\\nJump to: navigation, search \\n(Pkill) A shadowed lantern lies here, casting dim shafts of light across the room.\\n  Identify \\nObject 'a shadowed lantern' is infused with your magic...\\nIt is a level 0 light, weight 1.\\nSpecial properties:  pkill\\nThis light has a gold value of 100.\\nAffects affected_by by detect_hidden.\\nAffects constitution by 1.\\nAffects dexterity by 1.\\nAffects strength by 1.\\n  Information \\n Mob: Sevrias\\n Area: Grimoire\\n Pop: No\\n Manufactured: No\\n Out of Game: No\\n Minimum Level: Unknown\\n Known keywords: Unknown\\n  Notes \\nPkill only\\nSold in Grimoire\\n\",\n",
       " 'Mob': 'Sevrias',\n",
       " 'Area': 'Grimoire',\n",
       " 'Pop': 'No',\n",
       " 'Manufactured': 'No',\n",
       " 'Out of Game': 'No',\n",
       " 'Minimum Level': 'Unknown',\n",
       " 'Known Keywords': '',\n",
       " 'DAMAGE_ROLL': '',\n",
       " 'HIT_ROLL': '',\n",
       " 'HP': '',\n",
       " 'MANA': '',\n",
       " 'STR': 1,\n",
       " 'DEX': 1,\n",
       " 'CON': 1,\n",
       " 'INT': '',\n",
       " 'WIS': '',\n",
       " 'CHA': '',\n",
       " 'LCK': '',\n",
       " 'AVERAGE_DAMAGE': '',\n",
       " 'AC': '',\n",
       " 'VALUE': 4}"
      ]
     },
     "execution_count": 17,
     "metadata": {},
     "output_type": "execute_result"
    }
   ],
   "source": [
    "%pprint\n",
    "items[1776]"
   ]
  },
  {
   "cell_type": "code",
   "execution_count": 18,
   "metadata": {},
   "outputs": [
    {
     "data": {
      "text/plain": [
       "'affected_by detect_hidden; constitution 1; dexterity 1; strength 1; '"
      ]
     },
     "execution_count": 18,
     "metadata": {},
     "output_type": "execute_result"
    }
   ],
   "source": [
    "rdb.flatten_affects(items[1776])"
   ]
  },
  {
   "cell_type": "code",
   "execution_count": 19,
   "metadata": {},
   "outputs": [],
   "source": [
    "def format_affects_list(af):\n",
    "    #af = item['AFFECTS_LIST']\n",
    "    str = ''\n",
    "    for key in af:\n",
    "        words= re.findall(r\"[\\w']+\", key[0])\n",
    "        for word in words:\n",
    "            str = str + word[0:3] + ' '\n",
    "        str = str.strip() + ':' + key[1] + '; '\n",
    "        #str = str + key[0] + ' ' + key[1] + '; '\n",
    "    return str.strip().upper()"
   ]
  },
  {
   "cell_type": "code",
   "execution_count": 21,
   "metadata": {},
   "outputs": [
    {
     "data": {
      "text/plain": [
       "'SAV VS POI:-3; ARM CLA:-40; STR:2; DEX:-1; HP:150; HIT ROL:8; DAM ROL:8; RES BLU:10%; RES DRA:10%;'"
      ]
     },
     "execution_count": 21,
     "metadata": {},
     "output_type": "execute_result"
    }
   ],
   "source": [
    "rdb.format_affects(items[952])"
   ]
  },
  {
   "cell_type": "code",
   "execution_count": 22,
   "metadata": {},
   "outputs": [
    {
     "data": {
      "text/plain": [
       "'save vs poison -3; armor class -40; strength 2; dexterity -1; hp 150; hit roll 8; damage roll 8; resistant:blunt 10%; resistant:drain 10%; '"
      ]
     },
     "execution_count": 22,
     "metadata": {},
     "output_type": "execute_result"
    }
   ],
   "source": [
    "rdb.flatten_affects(items[952])"
   ]
  },
  {
   "cell_type": "code",
   "execution_count": 27,
   "metadata": {},
   "outputs": [
    {
     "name": "stdout",
     "output_type": "stream",
     "text": [
      "\n",
      "Match ID: 47\n",
      "Item name: THE ANCIENT BREASTPLATE OF THE FOREST WANDERER\n",
      "Level: 47\tWorn: BODY \tType: ARMOR \n",
      "AC: ('20', '20')\tDamage:\n",
      "STR: 1 INT:  WIS: 1 DEX:  CON:  CHA: LCK:  HIT:  DMG: \n",
      "HP: 100\t MANA: 100\n",
      "Area: The City of Salburg\t Mob: Chaurid, the Merchant\n",
      "hp 100; mana 100; damage roll 7; armor class -20; resistant:blunt 5%; resistant:magic 5%; susceptible:fire 5%; save vs breath -3; save vs paralysis -3; strength 1; wisdom 1; affected_by hide; \n",
      "\n",
      "Match ID: 515\n",
      "Item name: THE DAMNED PLATE OF MORDRED\n",
      "Level: 50\tWorn: BODY \tType: ARMOR \n",
      "AC: ('25', '25')\tDamage:\n",
      "STR:  INT:  WIS:  DEX:  CON:  CHA: LCK:  HIT:  DMG: \n",
      "HP: 90\t MANA: \n",
      "Area: Knights of the Round\t Mob: Sir Mordred\n",
      "resistant:pierce 10%; resistant:slash 10%; damage roll 7; hp 90; resistant:blunt 10%\" is added randomly; \n",
      "\n",
      "Match ID: 905\n",
      "Item name: GOLDEN SHIELD\n",
      "Level: 47\tWorn: SHIELD \tType: ARMOR \n",
      "AC: ('14', '14')\tDamage:\n",
      "STR:  INT:  WIS:  DEX:  CON:  CHA: LCK:  HIT:  DMG: 6\n",
      "HP: 75\t MANA: 55\n",
      "Area: Seth's Fortress\t Mob: The onyx golem\n",
      "armor class -15; hit roll 6; mana 55; resistant:blunt 10%; damage roll 5; hp 75; \n",
      "\n",
      "Match ID: 952\n",
      "Item name: THE HAMMER OF CURDARDH\n",
      "Level: 49\tWorn: WIELD \tType: WEAPON CRUSHING \n",
      "AC: \tDamage:('14', '42', '28')\n",
      "STR: 2 INT:  WIS:  DEX: -1 CON:  CHA: LCK:  HIT:  DMG: 8\n",
      "HP: 150\t MANA: \n",
      "Area: Shadowport\t Mob: Curdardh the Oldest One\n",
      "save vs poison -3; armor class -40; strength 2; dexterity -1; hp 150; hit roll 8; damage roll 8; resistant:blunt 10%; resistant:drain 10%; \n"
     ]
    },
    {
     "data": {
      "text/plain": [
       "[47, 515, 905, 952]"
      ]
     },
     "execution_count": 27,
     "metadata": {},
     "output_type": "execute_result"
    }
   ],
   "source": [
    "rdb.grep_all(items,'resistant:blunt')"
   ]
  },
  {
   "cell_type": "code",
   "execution_count": 28,
   "metadata": {},
   "outputs": [
    {
     "data": {
      "text/plain": [
       "'RES PIE:10%; RES SLA:10%; DAM ROL:7; HP:90; RES BLU:10%\" IS ADDED RANDOMLY;'"
      ]
     },
     "execution_count": 28,
     "metadata": {},
     "output_type": "execute_result"
    }
   ],
   "source": [
    "rdb.format_affects(items[515])"
   ]
  },
  {
   "cell_type": "code",
   "execution_count": null,
   "metadata": {},
   "outputs": [],
   "source": []
  },
  {
   "cell_type": "code",
   "execution_count": 112,
   "metadata": {},
   "outputs": [
    {
     "data": {
      "text/plain": [
       "[1177]"
      ]
     },
     "execution_count": 112,
     "metadata": {},
     "output_type": "execute_result"
    }
   ],
   "source": [
    "rdb.grep_name(items,'leg bone',False)"
   ]
  },
  {
   "cell_type": "code",
   "execution_count": 128,
   "metadata": {},
   "outputs": [
    {
     "data": {
      "text/plain": [
       "{'ITEM_NAME': 'a huge ash bow',\n",
       " 'LEVEL': '6',\n",
       " 'ITEM_TYPE': 'weapon',\n",
       " 'WORN': 'missile',\n",
       " 'AC': '',\n",
       " 'WEAPON_TYPE': 'missile',\n",
       " 'AVERAGE_DAMAGE': '',\n",
       " 'VALUE': 3,\n",
       " 'DAMAGE_ROLL': '',\n",
       " 'HIT_ROLL': 3,\n",
       " 'DEX': '',\n",
       " 'STR': '',\n",
       " 'WIS': '',\n",
       " 'CON': '',\n",
       " 'INT': '',\n",
       " 'LCK': '',\n",
       " 'CHA': '',\n",
       " 'HP': '',\n",
       " 'MANA': '',\n",
       " 'MOB': 'the forest bandit, Ogre the Brute, Lucellia the Lucky',\n",
       " 'AREA': 'Along the Forest Path',\n",
       " 'POP': 'No',\n",
       " 'MANUFACTURED': 'No',\n",
       " 'OUT_OF_GAME': 'No',\n",
       " 'MINIMUM_LEVEL': '',\n",
       " 'KNOWN_KEYWORDS': '',\n",
       " 'GOLD': '400',\n",
       " 'WEIGHT': '5',\n",
       " 'SPECIAL_PROPERTIES': ['none'],\n",
       " 'GENRES_ALLOWED': '',\n",
       " 'RACES_ALLOWES': '',\n",
       " 'AFFECTS_LIST': [('hit roll', '3')],\n",
       " 'GLANCE_DESCRIPTION': '',\n",
       " 'ARMOR_CLASS': '',\n",
       " 'DAMAGE': '',\n",
       " 'EXAM_DESCRIPTION': '',\n",
       " 'HTTP_DESCRIPTION': \"\\nA huge ash bow - RoDpedia\\nA huge ash bow\\nFrom RoDpedia\\nJump to: navigation, search \\n  Identify \\nObject 'a huge ash bow' is infused with your magic...\\nIt is a level 6 missileweapon, weight 5.\\nLocations it can be worn:  missile\\nSpecial properties:  none\\nThis missileweapon has a gold value of 400.\\nAffects hit roll by 3.\\n  Information \\n Mob: the forest bandit, Ogre the Brute, Lucellia the Lucky\\n Area: Along the Forest Path\\n Pop: No\\n Manufactured: No\\n Out of Game: No\\n\"}"
      ]
     },
     "execution_count": 128,
     "metadata": {},
     "output_type": "execute_result"
    }
   ],
   "source": [
    "reload(rdb)\n",
    "ti=rdb.item_from_description(items[1019]['HTTP_DESCRIPTION'])\n",
    "ti"
   ]
  },
  {
   "cell_type": "code",
   "execution_count": 118,
   "metadata": {},
   "outputs": [
    {
     "data": {
      "text/plain": [
       "'ARM CLA:10; STR:1; CON:1; HP:10;'"
      ]
     },
     "execution_count": 118,
     "metadata": {},
     "output_type": "execute_result"
    }
   ],
   "source": [
    "rdb.format_affects(ti)"
   ]
  },
  {
   "cell_type": "code",
   "execution_count": 69,
   "metadata": {},
   "outputs": [],
   "source": [
    "other_keys_names = ['Mob', 'Area','Pop', 'Manufactured', 'Out of Game', 'Minimum Level', 'Known keywords']"
   ]
  },
  {
   "cell_type": "code",
   "execution_count": 73,
   "metadata": {},
   "outputs": [
    {
     "data": {
      "text/plain": [
       "['MOB',\n",
       " 'AREA',\n",
       " 'POP',\n",
       " 'MANUFACTURED',\n",
       " 'OUT_OF_GAME',\n",
       " 'MINIMUM_LEVEL',\n",
       " 'KNOWN_KEYWORDS']"
      ]
     },
     "execution_count": 73,
     "metadata": {},
     "output_type": "execute_result"
    }
   ],
   "source": [
    "[re.sub(r' ',r'_',x.upper()) for x in other_keys_names]"
   ]
  },
  {
   "cell_type": "code",
   "execution_count": 84,
   "metadata": {},
   "outputs": [
    {
     "name": "stdout",
     "output_type": "stream",
     "text": [
      "adding numeric 8 from damage roll\n",
      "adding reduced 14.0 from hp (140)\n",
      "adding reduced 10.0 from mana (100)\n",
      "adding qualitiatve 1 from resistant:unholy (10%)\n",
      "adding numeric 1 from wisdom\n",
      "adding numeric 2 from strength\n"
     ]
    },
    {
     "data": {
      "text/plain": [
       "36.0"
      ]
     },
     "execution_count": 84,
     "metadata": {},
     "output_type": "execute_result"
    }
   ],
   "source": [
    "rdb.item_value(items[25],True)"
   ]
  },
  {
   "cell_type": "code",
   "execution_count": 139,
   "metadata": {},
   "outputs": [],
   "source": [
    "newitems=[]\n",
    "for item in items:\n",
    "    temp = rdb.item_from_description(item['HTTP_DESCRIPTION'])\n",
    "    temp.update({'CATEGORIES':item['CATEGORIES']})\n",
    "    newitems.append(temp)\n",
    "    "
   ]
  },
  {
   "cell_type": "code",
   "execution_count": 140,
   "metadata": {},
   "outputs": [
    {
     "data": {
      "text/plain": [
       "3745"
      ]
     },
     "execution_count": 140,
     "metadata": {},
     "output_type": "execute_result"
    }
   ],
   "source": [
    "len(newitems)"
   ]
  },
  {
   "cell_type": "raw",
   "metadata": {},
   "source": [
    "newitems[1019]"
   ]
  },
  {
   "cell_type": "code",
   "execution_count": 141,
   "metadata": {},
   "outputs": [],
   "source": [
    "#rdb.save_db(newitems)"
   ]
  },
  {
   "cell_type": "code",
   "execution_count": 145,
   "metadata": {},
   "outputs": [],
   "source": [
    "reload(rdb)\n",
    "df =rdb.make_pandas_df(newitems)"
   ]
  },
  {
   "cell_type": "code",
   "execution_count": 149,
   "metadata": {},
   "outputs": [],
   "source": [
    "ti = rdb.item_from_url('https://rodpedia.realmsofdespair.info/wiki/The_leg_bone_of_an_ox')"
   ]
  },
  {
   "cell_type": "code",
   "execution_count": 154,
   "metadata": {},
   "outputs": [
    {
     "data": {
      "text/plain": [
       "True"
      ]
     },
     "execution_count": 154,
     "metadata": {},
     "output_type": "execute_result"
    }
   ],
   "source": [
    "ti==newitems[1177]"
   ]
  },
  {
   "cell_type": "code",
   "execution_count": 192,
   "metadata": {},
   "outputs": [
    {
     "data": {
      "text/plain": [
       "<module 'rod_database_CJH' from 'C:\\\\CJH\\\\Misc\\\\Games\\\\CJH_Mudlet_Git\\\\Database\\\\rod_database_CJH.py'>"
      ]
     },
     "execution_count": 192,
     "metadata": {},
     "output_type": "execute_result"
    }
   ],
   "source": [
    "reload(rdb)"
   ]
  },
  {
   "cell_type": "code",
   "execution_count": 335,
   "metadata": {},
   "outputs": [],
   "source": [
    "test=rdb.grep_all(items,'', verbose=False, min_level=5, max_level=14, min_value= 10)\n",
    "df_test = rdb.make_pandas_df([items[i] for i in test ])"
   ]
  },
  {
   "cell_type": "code",
   "execution_count": 336,
   "metadata": {},
   "outputs": [
    {
     "data": {
      "text/html": [
       "<div>\n",
       "<style scoped>\n",
       "    .dataframe tbody tr th:only-of-type {\n",
       "        vertical-align: middle;\n",
       "    }\n",
       "\n",
       "    .dataframe tbody tr th {\n",
       "        vertical-align: top;\n",
       "    }\n",
       "\n",
       "    .dataframe thead th {\n",
       "        text-align: right;\n",
       "    }\n",
       "</style>\n",
       "<table border=\"1\" class=\"dataframe\">\n",
       "  <thead>\n",
       "    <tr style=\"text-align: right;\">\n",
       "      <th></th>\n",
       "      <th>ITEM_NAME</th>\n",
       "      <th>LEVEL</th>\n",
       "      <th>VALUE</th>\n",
       "      <th>AFFECTS</th>\n",
       "      <th>AREA</th>\n",
       "      <th>WORN</th>\n",
       "      <th>MOB</th>\n",
       "      <th>GENRES_ALLOWED</th>\n",
       "      <th>RACES_ALLOWED</th>\n",
       "      <th>HIT_ROLL</th>\n",
       "      <th>DAMAGE_ROLL</th>\n",
       "    </tr>\n",
       "  </thead>\n",
       "  <tbody>\n",
       "    <tr>\n",
       "      <th>4</th>\n",
       "      <td>a Narwhale rapier</td>\n",
       "      <td>10</td>\n",
       "      <td>10</td>\n",
       "      <td>DAM ROL:3; HIT ROL:4; SAV VS PAR:-3;</td>\n",
       "      <td>Coral Depths</td>\n",
       "      <td>wield</td>\n",
       "      <td>Narwhale</td>\n",
       "      <td></td>\n",
       "      <td></td>\n",
       "      <td>4</td>\n",
       "      <td>3</td>\n",
       "    </tr>\n",
       "    <tr>\n",
       "      <th>6</th>\n",
       "      <td>a fine mace</td>\n",
       "      <td>12</td>\n",
       "      <td>10</td>\n",
       "      <td>DAM ROL:5; HIT ROL:4; STR:1;</td>\n",
       "      <td>Wyvern's Tower</td>\n",
       "      <td>wield</td>\n",
       "      <td>a deformed minotaur</td>\n",
       "      <td></td>\n",
       "      <td></td>\n",
       "      <td>4</td>\n",
       "      <td>5</td>\n",
       "    </tr>\n",
       "    <tr>\n",
       "      <th>8</th>\n",
       "      <td>a fishing pole cut from thick reed</td>\n",
       "      <td>9</td>\n",
       "      <td>10</td>\n",
       "      <td>HIT ROL:4; DEX:2; CON:1; DAM ROL:3;</td>\n",
       "      <td>Ockwater Fens</td>\n",
       "      <td>wield</td>\n",
       "      <td>Lizardman Angler</td>\n",
       "      <td></td>\n",
       "      <td></td>\n",
       "      <td>4</td>\n",
       "      <td>3</td>\n",
       "    </tr>\n",
       "    <tr>\n",
       "      <th>9</th>\n",
       "      <td>a stone club</td>\n",
       "      <td>14</td>\n",
       "      <td>10</td>\n",
       "      <td>DAM ROL:4; HIT ROL:4; HP:20;</td>\n",
       "      <td>Dragon Tower</td>\n",
       "      <td>wield</td>\n",
       "      <td>Great Blue Dragon</td>\n",
       "      <td>[fighter, shaman]</td>\n",
       "      <td></td>\n",
       "      <td>4</td>\n",
       "      <td>4</td>\n",
       "    </tr>\n",
       "    <tr>\n",
       "      <th>10</th>\n",
       "      <td>a stout wooden bow</td>\n",
       "      <td>12</td>\n",
       "      <td>10</td>\n",
       "      <td>HIT ROL:4; DAM ROL:6;</td>\n",
       "      <td>New Darkhaven</td>\n",
       "      <td>wield</td>\n",
       "      <td>The archer</td>\n",
       "      <td></td>\n",
       "      <td></td>\n",
       "      <td>4</td>\n",
       "      <td>6</td>\n",
       "    </tr>\n",
       "    <tr>\n",
       "      <th>1</th>\n",
       "      <td>The Brand of Origin</td>\n",
       "      <td>10</td>\n",
       "      <td>12</td>\n",
       "      <td>STR:2 IF CLASS IS WARRIOR; DEX:1 IF CLASS IS W...</td>\n",
       "      <td>The Guild of Origin</td>\n",
       "      <td>wrist</td>\n",
       "      <td>Visil</td>\n",
       "      <td>[sorcerer, rogue, fighter]</td>\n",
       "      <td></td>\n",
       "      <td></td>\n",
       "      <td></td>\n",
       "    </tr>\n",
       "    <tr>\n",
       "      <th>5</th>\n",
       "      <td>a sharpened bardiche</td>\n",
       "      <td>14</td>\n",
       "      <td>12</td>\n",
       "      <td>HIT ROL:4; DAM ROL:3; HP:20; MAN:15; CON:1; GR...</td>\n",
       "      <td>The Shire</td>\n",
       "      <td>wield</td>\n",
       "      <td>The Thain</td>\n",
       "      <td></td>\n",
       "      <td></td>\n",
       "      <td>4</td>\n",
       "      <td>3</td>\n",
       "    </tr>\n",
       "    <tr>\n",
       "      <th>7</th>\n",
       "      <td>a dragon-skin belt</td>\n",
       "      <td>10</td>\n",
       "      <td>12</td>\n",
       "      <td>DAM ROL:2; HIT ROL:2; SAV VS BRE:-8;</td>\n",
       "      <td>None</td>\n",
       "      <td>waist</td>\n",
       "      <td>None (see Notes)</td>\n",
       "      <td></td>\n",
       "      <td></td>\n",
       "      <td>2</td>\n",
       "      <td>2</td>\n",
       "    </tr>\n",
       "    <tr>\n",
       "      <th>2</th>\n",
       "      <td>a giant hammer</td>\n",
       "      <td>14</td>\n",
       "      <td>14</td>\n",
       "      <td>ARM CLA:-5; LUC:1; MAN:25; INT:2; WIS:1; DAM R...</td>\n",
       "      <td>Ockwater Fens</td>\n",
       "      <td>wield</td>\n",
       "      <td>Area pop</td>\n",
       "      <td></td>\n",
       "      <td></td>\n",
       "      <td>4</td>\n",
       "      <td>3</td>\n",
       "    </tr>\n",
       "    <tr>\n",
       "      <th>0</th>\n",
       "      <td>boots of taut hide</td>\n",
       "      <td>5</td>\n",
       "      <td>16</td>\n",
       "      <td>DEX:1; MOV:150;</td>\n",
       "      <td>The Umbrageous Ruins</td>\n",
       "      <td>feet</td>\n",
       "      <td>The guardhide crafter</td>\n",
       "      <td></td>\n",
       "      <td></td>\n",
       "      <td></td>\n",
       "      <td></td>\n",
       "    </tr>\n",
       "    <tr>\n",
       "      <th>3</th>\n",
       "      <td>the horns of demonkine</td>\n",
       "      <td>10</td>\n",
       "      <td>19</td>\n",
       "      <td>HP:1; LUC:1; WIS:1; HIT ROL:1; CHA:1; STR:1; D...</td>\n",
       "      <td>The Graveyard</td>\n",
       "      <td>head</td>\n",
       "      <td>A demonkine</td>\n",
       "      <td></td>\n",
       "      <td></td>\n",
       "      <td>1</td>\n",
       "      <td>1</td>\n",
       "    </tr>\n",
       "  </tbody>\n",
       "</table>\n",
       "</div>"
      ],
      "text/plain": [
       "                             ITEM_NAME  LEVEL  VALUE  \\\n",
       "4                    a Narwhale rapier     10     10   \n",
       "6                          a fine mace     12     10   \n",
       "8   a fishing pole cut from thick reed      9     10   \n",
       "9                         a stone club     14     10   \n",
       "10                  a stout wooden bow     12     10   \n",
       "1                  The Brand of Origin     10     12   \n",
       "5                 a sharpened bardiche     14     12   \n",
       "7                   a dragon-skin belt     10     12   \n",
       "2                       a giant hammer     14     14   \n",
       "0                   boots of taut hide      5     16   \n",
       "3               the horns of demonkine     10     19   \n",
       "\n",
       "                                              AFFECTS                  AREA  \\\n",
       "4                DAM ROL:3; HIT ROL:4; SAV VS PAR:-3;          Coral Depths   \n",
       "6                        DAM ROL:5; HIT ROL:4; STR:1;        Wyvern's Tower   \n",
       "8                 HIT ROL:4; DEX:2; CON:1; DAM ROL:3;         Ockwater Fens   \n",
       "9                        DAM ROL:4; HIT ROL:4; HP:20;          Dragon Tower   \n",
       "10                              HIT ROL:4; DAM ROL:6;         New Darkhaven   \n",
       "1   STR:2 IF CLASS IS WARRIOR; DEX:1 IF CLASS IS W...   The Guild of Origin   \n",
       "5   HIT ROL:4; DAM ROL:3; HP:20; MAN:15; CON:1; GR...             The Shire   \n",
       "7                DAM ROL:2; HIT ROL:2; SAV VS BRE:-8;                  None   \n",
       "2   ARM CLA:-5; LUC:1; MAN:25; INT:2; WIS:1; DAM R...         Ockwater Fens   \n",
       "0                                     DEX:1; MOV:150;  The Umbrageous Ruins   \n",
       "3   HP:1; LUC:1; WIS:1; HIT ROL:1; CHA:1; STR:1; D...         The Graveyard   \n",
       "\n",
       "     WORN                    MOB              GENRES_ALLOWED RACES_ALLOWED  \\\n",
       "4   wield               Narwhale                                             \n",
       "6   wield    a deformed minotaur                                             \n",
       "8   wield       Lizardman Angler                                             \n",
       "9   wield      Great Blue Dragon           [fighter, shaman]                 \n",
       "10  wield             The archer                                             \n",
       "1   wrist                  Visil  [sorcerer, rogue, fighter]                 \n",
       "5   wield              The Thain                                             \n",
       "7   waist       None (see Notes)                                             \n",
       "2   wield               Area pop                                             \n",
       "0    feet  The guardhide crafter                                             \n",
       "3    head            A demonkine                                             \n",
       "\n",
       "   HIT_ROLL DAMAGE_ROLL  \n",
       "4         4           3  \n",
       "6         4           5  \n",
       "8         4           3  \n",
       "9         4           4  \n",
       "10        4           6  \n",
       "1                        \n",
       "5         4           3  \n",
       "7         2           2  \n",
       "2         4           3  \n",
       "0                        \n",
       "3         1           1  "
      ]
     },
     "execution_count": 336,
     "metadata": {},
     "output_type": "execute_result"
    }
   ],
   "source": [
    "standard_cols=['ITEM_NAME', 'LEVEL','VALUE', 'AFFECTS','AREA','WORN','MOB','GENRES_ALLOWED','RACES_ALLOWED','HIT_ROLL','DAMAGE_ROLL']\n",
    "df_test[standard_cols].fillna('').sort_values(by = 'VALUE')"
   ]
  },
  {
   "cell_type": "code",
   "execution_count": 338,
   "metadata": {},
   "outputs": [
    {
     "name": "stdout",
     "output_type": "stream",
     "text": [
      "\n",
      "Match ID: 2759\n",
      "Item name: A FISHING POLE\n",
      "Level: 8\tWorn: WIELD \tType: WEAPON WHIPPING  \tValue: 4\n",
      "AC: \tDamage:('3', '18', '10')\n",
      "STR:  INT:  WIS:  DEX:  CON:  CHA: LCK:  HIT: 1 DMG: \n",
      "HP: 15\t MANA: 15\n",
      "AREA: Lake of Tich'Pyga\t MOB: The fisherman's wife\n",
      "RACES:  \tGENRES: sorcerer rogue fighter divinity shaman\n",
      "luck 1; hp 15; mana 15; \n",
      "\n",
      "Match ID: 2760\n",
      "Item name: A FISHING POLE CUT FROM THICK REED\n",
      "Level: 9\tWorn: WIELD \tType: WEAPON WHIPPING  \tValue: 10\n",
      "AC: \tDamage:('4', '24', '14')\n",
      "STR:  INT:  WIS:  DEX: 2 CON: 1 CHA: LCK:  HIT:  DMG: 4\n",
      "HP: \t MANA: \n",
      "AREA: Ockwater Fens\t MOB: Lizardman Angler\n",
      "RACES:  \tGENRES: \n",
      "hit roll 4; dexterity 2; constitution 1; damage roll 3; \n"
     ]
    }
   ],
   "source": [
    "id = rdb.grep_all(items,'fishing pole',area='')"
   ]
  },
  {
   "cell_type": "code",
   "execution_count": 340,
   "metadata": {},
   "outputs": [
    {
     "name": "stdout",
     "output_type": "stream",
     "text": [
      "\n",
      "A fishing pole cut from thick reed - RoDpedia\n",
      "A fishing pole cut from thick reed\n",
      "From RoDpedia\n",
      "Jump to: navigation, search \n",
      "  Identify \n",
      "Object 'a fishing pole cut from thick reed' is infused with your magic...\n",
      "It is a level 9 whipping weapon, weight 1.\n",
      "Locations it can be worn:  wield\n",
      "Special properties:  none\n",
      "This weapon has a gold value of 2000.\n",
      "Damage is 4 to 24 (average 14).\n",
      "Affects hit roll by 4.\n",
      "Affects dexterity by 2.\n",
      "Affects constitution by 1.\n",
      "Affects damage roll by 3.\n",
      "  Information \n",
      " Mob: Lizardman Angler\n",
      " Area: Ockwater Fens\n",
      " Pop: No\n",
      " Manufactured: No\n",
      " Out of Game: No\n",
      "\n"
     ]
    }
   ],
   "source": [
    "rdb.print_web(items[2760])"
   ]
  },
  {
   "cell_type": "code",
   "execution_count": 328,
   "metadata": {},
   "outputs": [
    {
     "name": "stdout",
     "output_type": "stream",
     "text": [
      "3.7.0 (default, Jun 28 2018, 08:04:48) [MSC v.1912 64 bit (AMD64)]\n"
     ]
    }
   ],
   "source": [
    "import sys\n",
    "print(sys.version)"
   ]
  },
  {
   "cell_type": "code",
   "execution_count": null,
   "metadata": {},
   "outputs": [],
   "source": []
  }
 ],
 "metadata": {
  "kernelspec": {
   "display_name": "Python 3",
   "language": "python",
   "name": "python3"
  },
  "language_info": {
   "codemirror_mode": {
    "name": "ipython",
    "version": 3
   },
   "file_extension": ".py",
   "mimetype": "text/x-python",
   "name": "python",
   "nbconvert_exporter": "python",
   "pygments_lexer": "ipython3",
   "version": "3.7.0"
  }
 },
 "nbformat": 4,
 "nbformat_minor": 2
}
